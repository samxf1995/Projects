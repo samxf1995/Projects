{
 "cells": [
  {
   "cell_type": "code",
   "execution_count": 35,
   "metadata": {},
   "outputs": [],
   "source": [
    "from whoosh.analysis import *\n",
    "import os\n",
    "import re\n",
    "from pathlib import Path\n",
    "from nltk.tokenize import RegexpTokenizer\n",
    "from collections import Counter\n",
    "import pandas as pd\n",
    "from sklearn.linear_model import LogisticRegression\n",
    "from sklearn.naive_bayes import GaussianNB, BernoulliNB, MultinomialNB\n",
    "from sklearn.model_selection import train_test_split\n",
    "from sklearn.metrics import accuracy_score, confusion_matrix\n",
    "from sklearn.exceptions import ConvergenceWarning\n",
    "import numpy as np\n",
    "from scipy import stats\n",
    "import matplotlib\n",
    "import matplotlib.pyplot as plt\n",
    "%matplotlib inline  \n",
    "import random\n",
    "random.seed()\n",
    "import warnings\n",
    "warnings.filterwarnings(\"ignore\", category=FutureWarning)\n",
    "warnings.filterwarnings(\"ignore\", category=ConvergenceWarning)\n",
    "import nltk\n",
    "from nltk import word_tokenize\n",
    "from nltk.corpus import stopwords\n",
    "from nltk.stem import RegexpStemmer"
   ]
  },
  {
   "cell_type": "code",
   "execution_count": 36,
   "metadata": {},
   "outputs": [],
   "source": [
    "DATA_DIR = \"20_newsgroups\""
   ]
  },
  {
   "cell_type": "markdown",
   "metadata": {},
   "source": [
    "## Functions from lab"
   ]
  },
  {
   "cell_type": "code",
   "execution_count": 37,
   "metadata": {},
   "outputs": [],
   "source": [
    "def clean_file_text(text):\n",
    "    new_text = re.sub(\"Newsgroups:.*?\\n\", \"\", text)\n",
    "    new_text = re.sub(\"Xref:.*?\\n\", \"\", new_text)\n",
    "    new_text = re.sub(\"Path:.*?\\n\", \"\", new_text)\n",
    "    new_text = re.sub(\"Date:.*?\\n\", \"\", new_text)\n",
    "    new_text = re.sub(\"Followup-To:.*?\\n\", \"\", new_text)\n",
    "    return new_text"
   ]
  },
  {
   "cell_type": "code",
   "execution_count": 38,
   "metadata": {},
   "outputs": [],
   "source": [
    "def corpus_count_words(file_list):\n",
    "    tokenizer = RegexpTokenizer(r'\\w+')\n",
    "    word_counter = Counter()\n",
    "    for file_path in file_list:\n",
    "        with open(file_path, 'r', encoding='utf-8', errors='ignore') as file:\n",
    "            file_data = file.read()\n",
    "            file_data = clean_file_text(file_data)\n",
    "            file_words = tokenizer.tokenize(file_data)\n",
    "            word_counter.update(file_words)\n",
    "    return word_counter"
   ]
  },
  {
   "cell_type": "code",
   "execution_count": 39,
   "metadata": {},
   "outputs": [],
   "source": [
    "def get_topic_name(file_path):\n",
    "    return file_path.parent.name\n",
    "\n",
    "def get_target(topic_name):\n",
    "    topics = ['talk.politics.mideast', 'rec.autos', 'comp.sys.mac.hardware', 'alt.atheism', 'rec.sport.baseball', \n",
    "     'comp.os.ms-windows.misc', 'rec.sport.hockey', 'sci.crypt', 'sci.med', 'talk.politics.misc', \n",
    "     'rec.motorcycles', 'comp.windows.x', 'comp.graphics', 'comp.sys.ibm.pc.hardware', 'sci.electronics',\n",
    "     'talk.politics.guns', 'sci.space', 'soc.religion.christian', 'misc.forsale', 'talk.religion.misc']\n",
    "    return topics.index(topic_name)"
   ]
  },
  {
   "cell_type": "code",
   "execution_count": 40,
   "metadata": {},
   "outputs": [],
   "source": [
    "def plot_confusion_matrix(cm):\n",
    "    # plot the confusion matrix\n",
    "    plt.figure(figsize=(10,10))\n",
    "    plt.matshow(cm, fignum=1)\n",
    "    \n",
    "    # add labels for all targets\n",
    "    num_targets = cm.shape[0]\n",
    "    plt.xticks(list(range(num_targets+1)))\n",
    "    plt.yticks(list(range(num_targets+1)))"
   ]
  },
  {
   "cell_type": "markdown",
   "metadata": {},
   "source": [
    "## Q1"
   ]
  },
  {
   "cell_type": "code",
   "execution_count": 41,
   "metadata": {},
   "outputs": [],
   "source": [
    "all_files = [pth for pth in Path(DATA_DIR).glob(\"**/*\") if pth.is_file() and not pth.name.startswith(\".\")]"
   ]
  },
  {
   "cell_type": "code",
   "execution_count": 42,
   "metadata": {},
   "outputs": [],
   "source": [
    "def binary_baseline_data(file_list, num_words = 1000):\n",
    "    # Calculate word count in corpus\n",
    "    news_cnt = corpus_count_words(file_list)\n",
    "    \n",
    "    # Select the most common numWords\n",
    "    word_list = [word for (word, freq) in news_cnt.most_common(num_words)]\n",
    "    \n",
    "    # Create a binary encoding of dataset based on the selected features (X)\n",
    "    tokenizer = RegexpTokenizer(r'\\w+')\n",
    "    df_rows = []\n",
    "    for file_path in file_list:\n",
    "        with open(file_path, 'r', encoding='utf-8', errors='ignore') as file:\n",
    "            file_data = file.read()\n",
    "            file_data = clean_file_text(file_data)\n",
    "            file_words = tokenizer.tokenize(file_data)\n",
    "            df_rows.append([1 if word in file_words else 0 for word in word_list])      \n",
    "    X = pd.DataFrame(df_rows, columns = word_list)\n",
    "    \n",
    "    # Create a dataframe of targets (y)\n",
    "    y = [get_target(get_topic_name(file_path)) for file_path in file_list]\n",
    "    \n",
    "    return X, y"
   ]
  },
  {
   "cell_type": "code",
   "execution_count": 44,
   "metadata": {},
   "outputs": [
    {
     "name": "stdout",
     "output_type": "stream",
     "text": [
      "Train accuracy: 0.9124812459812817\n",
      "Test accuracy: 0.6978333333333333\n"
     ]
    }
   ],
   "source": [
    "# get the baseline data\n",
    "X, y = binary_baseline_data(all_files)\n",
    "\n",
    "# split to train and test set\n",
    "X_train, X_test, y_train, y_test = train_test_split(X, y, test_size=0.3, random_state=42)\n",
    "\n",
    "# train a logistic regression classifier\n",
    "clf = LogisticRegression(C=1.0).fit(X_train, y_train)\n",
    "\n",
    "# predict on train and test set\n",
    "y_train_predict = clf.predict(X_train)\n",
    "y_test_predict = clf.predict(X_test)\n",
    "\n",
    "# calculate train and test accuracy\n",
    "train_accuracy = accuracy_score(y_train, y_train_predict)\n",
    "test_accuracy = accuracy_score(y_test, y_test_predict)\n",
    "\n",
    "# report results\n",
    "print(\"Train accuracy: {}\".format(train_accuracy))\n",
    "print(\"Test accuracy: {}\".format(test_accuracy))"
   ]
  },
  {
   "cell_type": "markdown",
   "metadata": {},
   "source": [
    "### Q1 (a)\n",
    "\n",
    "feature set is binary of  the appearance of top 1000 words amount all the data.  \n",
    "the amount of data is all the different documents.  \n",
    "one of the hyper parameters used in this baseline is logic regression's preremeter C. smaller values specify stronger regularization. Another hyper parameter is the the size of feature set, in this case is 1000."
   ]
  },
  {
   "cell_type": "markdown",
   "metadata": {},
   "source": [
    "### Q1 (b)\n",
    "\n",
    "Modify the following function:"
   ]
  },
  {
   "cell_type": "code",
   "execution_count": 43,
   "metadata": {},
   "outputs": [],
   "source": [
    "def  binary_improved_data(file_list, num_words = 1000):\n",
    "    # Calculate word count in corpus\n",
    "    nltk.download('punkt')\n",
    "    nltk.download('stopwords')\n",
    "    df_rows = []\n",
    "    stop = set(stopwords.words('english'))\n",
    "    st = RegexpStemmer('ing$|s$|e$|able$', min=4)\n",
    "    tokenizer = RegexpTokenizer(r'\\w+')\n",
    "    \n",
    "    word_counter = Counter()\n",
    "    for file_path in file_list:\n",
    "        with open(file_path, 'r', encoding='utf-8', errors='ignore') as file:\n",
    "            file_data = file.read()\n",
    "            file_data = clean_file_text(file_data)\n",
    "            file_data = st.stem(file_data.lower())\n",
    "            file_words =tokenizer.tokenize(file_data)\n",
    "            file_words = [i for i in file_words if i not in stop]\n",
    "            \n",
    "            word_counter.update(file_words)\n",
    "     \n",
    "    word_list = [word for (word, freq) in word_counter.most_common(num_words)]\n",
    "    \n",
    "    for file_path in file_list:\n",
    "        with open(file_path, 'r', encoding='utf-8', errors='ignore') as file:\n",
    "            file_data = file.read()\n",
    "            file_data = clean_file_text(file_data)\n",
    "            file_data =st.stem(file_data.lower())\n",
    "            file_words =tokenizer.tokenize(file_data)\n",
    "            file_words = [i for i in file_words if i not in stop]\n",
    "            df_rows.append([1 if word in file_words else 0 for word in word_list])\n",
    " \n",
    "    X = pd.DataFrame(df_rows, columns = word_list)\n",
    "    \n",
    "    # Create a dataframe of targets (y)\n",
    "    y = [get_target(get_topic_name(file_path)) for file_path in file_list]\n",
    "    \n",
    "    return X, y"
   ]
  },
  {
   "cell_type": "markdown",
   "metadata": {},
   "source": [
    "### Q1 (c)\n",
    "\n",
    "Modify the following partial code to calculate the train and test accuracy and answer the question in the markdown cell below"
   ]
  },
  {
   "cell_type": "code",
   "execution_count": 46,
   "metadata": {
    "scrolled": false
   },
   "outputs": [
    {
     "name": "stdout",
     "output_type": "stream",
     "text": [
      "[nltk_data] Downloading package punkt to\n",
      "[nltk_data]     C:\\Users\\samxf1995\\AppData\\Roaming\\nltk_data...\n",
      "[nltk_data]   Package punkt is already up-to-date!\n",
      "[nltk_data] Downloading package stopwords to\n",
      "[nltk_data]     C:\\Users\\samxf1995\\AppData\\Roaming\\nltk_data...\n",
      "[nltk_data]   Package stopwords is already up-to-date!\n",
      "Train accuracy: 0.9249124812459812\n",
      "Test accuracy: 0.7326666666666667\n"
     ]
    }
   ],
   "source": [
    "# get the baseline data\n",
    "X, y = binary_improved_data(all_files)\n",
    "\n",
    "# split to train and test set\n",
    "X_train, X_test, y_train, y_test = train_test_split(X, y, test_size=0.3, random_state=42)\n",
    "\n",
    "# train a logistic regression classifier\n",
    "clf = LogisticRegression(C=1.0).fit(X_train, y_train)\n",
    "\n",
    "# predict on train and test set\n",
    "y_train_predict = clf.predict(X_train)\n",
    "y_test_predict = clf.predict(X_test)\n",
    "\n",
    "# calculate train and test accuracy\n",
    "train_accuracy = accuracy_score(y_train, y_train_predict)\n",
    "test_accuracy = accuracy_score(y_test, y_test_predict)\n",
    "\n",
    "\n",
    "\n",
    "\n",
    "# report results\n",
    "print(\"Train accuracy: {}\".format(train_accuracy))\n",
    "print(\"Test accuracy: {}\".format(test_accuracy))"
   ]
  },
  {
   "cell_type": "markdown",
   "metadata": {},
   "source": [
    "Test accuracy and train accuracy are both improved."
   ]
  },
  {
   "cell_type": "markdown",
   "metadata": {},
   "source": [
    "### Q1 (d)\n",
    "\n",
    "Modify the partial code below"
   ]
  },
  {
   "cell_type": "code",
   "execution_count": 47,
   "metadata": {},
   "outputs": [],
   "source": [
    "def random_mean_ci(X, y, num_tests):\n",
    "    # train_results is a list of train accuracy results for the differrent random splits of the dataset\n",
    "    train_results = []\n",
    "    \n",
    "    # test_results is a list of test accuracy results for the differrent random splits of the dataset\n",
    "    test_results = []\n",
    "    \n",
    "    # split to train and test set\n",
    "    for i in range(0,num_tests-1):\n",
    "        X_train, X_test, y_train, y_test = train_test_split(X, y, test_size=0.3, random_state=random.randint(1,1000))\n",
    "\n",
    "    # train a logistic regression classifier\n",
    "        clf = LogisticRegression(C=1.0).fit(X_train, y_train)\n",
    "    \n",
    "    # predict on train and test set\n",
    "        y_train_predict = clf.predict(X_train)\n",
    "        y_test_predict = clf.predict(X_test)\n",
    "\n",
    "    # calculate train and test accuracy\n",
    "        train_accuracy = accuracy_score(y_train, y_train_predict)\n",
    "        test_accuracy = accuracy_score(y_test, y_test_predict)\n",
    "        train_results.append(train_accuracy)\n",
    "        test_results.append(test_accuracy)\n",
    "    \n",
    "    \n",
    "    # calculate the train mean and the 95% confidence interval for the list of results\n",
    "    train_mean = np.mean(train_results)\n",
    "    train_ci_low, train_ci_high = stats.t.interval(0.95, len(train_results)-1, loc=train_mean, scale=stats.sem(train_results))\n",
    "    \n",
    "    # calculate the test mean and the 95% confidence interval for the list of results\n",
    "    test_mean = np.mean(test_results)\n",
    "    test_ci_low, test_ci_high = stats.t.interval(0.95, len(test_results)-1, loc=test_mean, scale=stats.sem(test_results))\n",
    "    \n",
    "    # validate return types\n",
    "    assert isinstance(train_mean, float) and isinstance(train_ci_low, float) and isinstance(train_ci_high, float), \"return types\"\n",
    "    assert isinstance(test_mean, float) and isinstance(test_ci_low, float) and isinstance(test_ci_high, float), \"return types\"\n",
    "    \n",
    "    return train_mean, train_ci_low, train_ci_high, test_mean, test_ci_low, test_ci_high"
   ]
  },
  {
   "cell_type": "markdown",
   "metadata": {},
   "source": [
    "### Q1 (e)\n",
    "\n",
    "Use the following code to calculate the mean accuracy and 95% confidence interval over 10 random splits"
   ]
  },
  {
   "cell_type": "code",
   "execution_count": 48,
   "metadata": {},
   "outputs": [
    {
     "name": "stdout",
     "output_type": "stream",
     "text": [
      "Train mean accuracy over 10 random splits: 0.9250791836345884\n",
      "Train confidence interval over 10 random splits: [0.92424181759607, 0.9259165496731068]\n",
      "Test mean accuracy over 10 random splits: 0.7382037037037037\n",
      "Test confidence interval over 10 random splits: [0.735143224737733, 0.7412641826696744]\n"
     ]
    }
   ],
   "source": [
    "train_mean10, train_low10, train_high10, test_mean10, test_low10, test_high10 = random_mean_ci(X, y, num_tests = 10)\n",
    "print(\"Train mean accuracy over 10 random splits: {}\".format(train_mean10))\n",
    "print(\"Train confidence interval over 10 random splits: [{}, {}]\".format(train_low10, train_high10))\n",
    "print(\"Test mean accuracy over 10 random splits: {}\".format(test_mean10))\n",
    "print(\"Test confidence interval over 10 random splits: [{}, {}]\".format(test_low10, test_high10))"
   ]
  },
  {
   "cell_type": "markdown",
   "metadata": {},
   "source": [
    "This tell me the result has small variations though out different splits. This tells me the bias of the model is low. There is more information since if one split is high that can be lucky."
   ]
  },
  {
   "cell_type": "markdown",
   "metadata": {},
   "source": [
    "### Q1 (f)\n",
    "\n",
    "Modify the partial code below"
   ]
  },
  {
   "cell_type": "code",
   "execution_count": 49,
   "metadata": {},
   "outputs": [],
   "source": [
    "def random_cm(X, y, num_tests):\n",
    "    # cm_list is a list of confusion matrices for the different random splits of the dataset\n",
    "    cm_list = []\n",
    "    \n",
    "    # split to train and test set\n",
    "    for i in range(0,num_tests-1):\n",
    "        X_train, X_test, y_train, y_test = train_test_split(X, y, test_size=0.3, random_state=random.randint(1,1000))\n",
    "\n",
    "    # train a logistic regression classifier\n",
    "        clf = LogisticRegression(C=1.0).fit(X_train, y_train)\n",
    "    \n",
    "    # predict on train and test set\n",
    "        y_train_predict = clf.predict(X_train)\n",
    "        y_test_predict = clf.predict(X_test)\n",
    "\n",
    "        cm_list.append(confusion_matrix(y_test, y_test_predict))\n",
    "    \n",
    "    # sum the confusion matrices and return the combined confusion matrix\n",
    "        combined_cm = pd.Panel(cm_list).sum(axis=0)\n",
    "    \n",
    "    # validate return type\n",
    "    assert isinstance(combined_cm, pd.DataFrame), \"return type\"\n",
    "    \n",
    "    return combined_cm"
   ]
  },
  {
   "cell_type": "markdown",
   "metadata": {},
   "source": [
    "### Q1 (g)\n",
    "\n",
    "Use the following code to produce a confusion matrix for 10 random splits"
   ]
  },
  {
   "cell_type": "code",
   "execution_count": 50,
   "metadata": {},
   "outputs": [
    {
     "data": {
      "image/png": "[encoded data removed]",
      "text/plain": [
       "<Figure size 720x720 with 1 Axes>"
      ]
     },
     "metadata": {
      "needs_background": "light"
     },
     "output_type": "display_data"
    }
   ],
   "source": [
    "cm10 = random_cm(X, y, num_tests = 10)\n",
    "plot_confusion_matrix(cm10)"
   ]
  },
  {
   "cell_type": "code",
   "execution_count": 51,
   "metadata": {},
   "outputs": [
    {
     "data": {
      "text/html": [
       "<div>\n",
       "<style scoped>\n",
       "    .dataframe tbody tr th:only-of-type {\n",
       "        vertical-align: middle;\n",
       "    }\n",
       "\n",
       "    .dataframe tbody tr th {\n",
       "        vertical-align: top;\n",
       "    }\n",
       "\n",
       "    .dataframe thead th {\n",
       "        text-align: right;\n",
       "    }\n",
       "</style>\n",
       "<table border=\"1\" class=\"dataframe\">\n",
       "  <thead>\n",
       "    <tr style=\"text-align: right;\">\n",
       "      <th></th>\n",
       "      <th>0</th>\n",
       "      <th>1</th>\n",
       "      <th>2</th>\n",
       "      <th>3</th>\n",
       "      <th>4</th>\n",
       "      <th>5</th>\n",
       "      <th>6</th>\n",
       "      <th>7</th>\n",
       "      <th>8</th>\n",
       "      <th>9</th>\n",
       "      <th>10</th>\n",
       "      <th>11</th>\n",
       "      <th>12</th>\n",
       "      <th>13</th>\n",
       "      <th>14</th>\n",
       "      <th>15</th>\n",
       "      <th>16</th>\n",
       "      <th>17</th>\n",
       "      <th>18</th>\n",
       "      <th>19</th>\n",
       "    </tr>\n",
       "  </thead>\n",
       "  <tbody>\n",
       "    <tr>\n",
       "      <th>0</th>\n",
       "      <td>2356</td>\n",
       "      <td>7</td>\n",
       "      <td>15</td>\n",
       "      <td>23</td>\n",
       "      <td>10</td>\n",
       "      <td>4</td>\n",
       "      <td>9</td>\n",
       "      <td>7</td>\n",
       "      <td>33</td>\n",
       "      <td>114</td>\n",
       "      <td>3</td>\n",
       "      <td>19</td>\n",
       "      <td>7</td>\n",
       "      <td>12</td>\n",
       "      <td>10</td>\n",
       "      <td>25</td>\n",
       "      <td>12</td>\n",
       "      <td>0</td>\n",
       "      <td>11</td>\n",
       "      <td>22</td>\n",
       "    </tr>\n",
       "    <tr>\n",
       "      <th>1</th>\n",
       "      <td>7</td>\n",
       "      <td>1988</td>\n",
       "      <td>40</td>\n",
       "      <td>17</td>\n",
       "      <td>56</td>\n",
       "      <td>12</td>\n",
       "      <td>22</td>\n",
       "      <td>8</td>\n",
       "      <td>73</td>\n",
       "      <td>32</td>\n",
       "      <td>109</td>\n",
       "      <td>25</td>\n",
       "      <td>33</td>\n",
       "      <td>35</td>\n",
       "      <td>113</td>\n",
       "      <td>26</td>\n",
       "      <td>21</td>\n",
       "      <td>0</td>\n",
       "      <td>74</td>\n",
       "      <td>12</td>\n",
       "    </tr>\n",
       "    <tr>\n",
       "      <th>2</th>\n",
       "      <td>1</td>\n",
       "      <td>34</td>\n",
       "      <td>1803</td>\n",
       "      <td>10</td>\n",
       "      <td>22</td>\n",
       "      <td>40</td>\n",
       "      <td>5</td>\n",
       "      <td>5</td>\n",
       "      <td>33</td>\n",
       "      <td>9</td>\n",
       "      <td>14</td>\n",
       "      <td>62</td>\n",
       "      <td>106</td>\n",
       "      <td>233</td>\n",
       "      <td>123</td>\n",
       "      <td>9</td>\n",
       "      <td>19</td>\n",
       "      <td>4</td>\n",
       "      <td>73</td>\n",
       "      <td>13</td>\n",
       "    </tr>\n",
       "    <tr>\n",
       "      <th>3</th>\n",
       "      <td>32</td>\n",
       "      <td>22</td>\n",
       "      <td>21</td>\n",
       "      <td>1804</td>\n",
       "      <td>15</td>\n",
       "      <td>9</td>\n",
       "      <td>21</td>\n",
       "      <td>10</td>\n",
       "      <td>57</td>\n",
       "      <td>38</td>\n",
       "      <td>23</td>\n",
       "      <td>10</td>\n",
       "      <td>16</td>\n",
       "      <td>2</td>\n",
       "      <td>15</td>\n",
       "      <td>36</td>\n",
       "      <td>27</td>\n",
       "      <td>5</td>\n",
       "      <td>8</td>\n",
       "      <td>611</td>\n",
       "    </tr>\n",
       "    <tr>\n",
       "      <th>4</th>\n",
       "      <td>4</td>\n",
       "      <td>38</td>\n",
       "      <td>26</td>\n",
       "      <td>14</td>\n",
       "      <td>2104</td>\n",
       "      <td>21</td>\n",
       "      <td>193</td>\n",
       "      <td>5</td>\n",
       "      <td>53</td>\n",
       "      <td>42</td>\n",
       "      <td>33</td>\n",
       "      <td>9</td>\n",
       "      <td>27</td>\n",
       "      <td>22</td>\n",
       "      <td>52</td>\n",
       "      <td>20</td>\n",
       "      <td>32</td>\n",
       "      <td>0</td>\n",
       "      <td>25</td>\n",
       "      <td>9</td>\n",
       "    </tr>\n",
       "    <tr>\n",
       "      <th>5</th>\n",
       "      <td>0</td>\n",
       "      <td>18</td>\n",
       "      <td>59</td>\n",
       "      <td>15</td>\n",
       "      <td>10</td>\n",
       "      <td>1930</td>\n",
       "      <td>3</td>\n",
       "      <td>12</td>\n",
       "      <td>30</td>\n",
       "      <td>7</td>\n",
       "      <td>17</td>\n",
       "      <td>100</td>\n",
       "      <td>173</td>\n",
       "      <td>189</td>\n",
       "      <td>58</td>\n",
       "      <td>3</td>\n",
       "      <td>14</td>\n",
       "      <td>0</td>\n",
       "      <td>23</td>\n",
       "      <td>4</td>\n",
       "    </tr>\n",
       "    <tr>\n",
       "      <th>6</th>\n",
       "      <td>4</td>\n",
       "      <td>14</td>\n",
       "      <td>22</td>\n",
       "      <td>1</td>\n",
       "      <td>189</td>\n",
       "      <td>4</td>\n",
       "      <td>2275</td>\n",
       "      <td>2</td>\n",
       "      <td>23</td>\n",
       "      <td>5</td>\n",
       "      <td>12</td>\n",
       "      <td>11</td>\n",
       "      <td>15</td>\n",
       "      <td>11</td>\n",
       "      <td>21</td>\n",
       "      <td>17</td>\n",
       "      <td>30</td>\n",
       "      <td>0</td>\n",
       "      <td>18</td>\n",
       "      <td>4</td>\n",
       "    </tr>\n",
       "    <tr>\n",
       "      <th>7</th>\n",
       "      <td>1</td>\n",
       "      <td>13</td>\n",
       "      <td>19</td>\n",
       "      <td>11</td>\n",
       "      <td>7</td>\n",
       "      <td>17</td>\n",
       "      <td>2</td>\n",
       "      <td>2372</td>\n",
       "      <td>32</td>\n",
       "      <td>37</td>\n",
       "      <td>5</td>\n",
       "      <td>28</td>\n",
       "      <td>51</td>\n",
       "      <td>14</td>\n",
       "      <td>50</td>\n",
       "      <td>43</td>\n",
       "      <td>18</td>\n",
       "      <td>0</td>\n",
       "      <td>7</td>\n",
       "      <td>8</td>\n",
       "    </tr>\n",
       "    <tr>\n",
       "      <th>8</th>\n",
       "      <td>8</td>\n",
       "      <td>54</td>\n",
       "      <td>46</td>\n",
       "      <td>36</td>\n",
       "      <td>45</td>\n",
       "      <td>15</td>\n",
       "      <td>25</td>\n",
       "      <td>9</td>\n",
       "      <td>1971</td>\n",
       "      <td>56</td>\n",
       "      <td>39</td>\n",
       "      <td>30</td>\n",
       "      <td>88</td>\n",
       "      <td>32</td>\n",
       "      <td>107</td>\n",
       "      <td>26</td>\n",
       "      <td>59</td>\n",
       "      <td>1</td>\n",
       "      <td>14</td>\n",
       "      <td>39</td>\n",
       "    </tr>\n",
       "    <tr>\n",
       "      <th>9</th>\n",
       "      <td>161</td>\n",
       "      <td>34</td>\n",
       "      <td>9</td>\n",
       "      <td>44</td>\n",
       "      <td>29</td>\n",
       "      <td>10</td>\n",
       "      <td>7</td>\n",
       "      <td>26</td>\n",
       "      <td>65</td>\n",
       "      <td>1506</td>\n",
       "      <td>13</td>\n",
       "      <td>10</td>\n",
       "      <td>13</td>\n",
       "      <td>10</td>\n",
       "      <td>13</td>\n",
       "      <td>239</td>\n",
       "      <td>34</td>\n",
       "      <td>1</td>\n",
       "      <td>10</td>\n",
       "      <td>352</td>\n",
       "    </tr>\n",
       "    <tr>\n",
       "      <th>10</th>\n",
       "      <td>1</td>\n",
       "      <td>96</td>\n",
       "      <td>35</td>\n",
       "      <td>21</td>\n",
       "      <td>21</td>\n",
       "      <td>13</td>\n",
       "      <td>5</td>\n",
       "      <td>6</td>\n",
       "      <td>44</td>\n",
       "      <td>21</td>\n",
       "      <td>2198</td>\n",
       "      <td>14</td>\n",
       "      <td>25</td>\n",
       "      <td>36</td>\n",
       "      <td>50</td>\n",
       "      <td>25</td>\n",
       "      <td>21</td>\n",
       "      <td>3</td>\n",
       "      <td>53</td>\n",
       "      <td>9</td>\n",
       "    </tr>\n",
       "    <tr>\n",
       "      <th>11</th>\n",
       "      <td>3</td>\n",
       "      <td>12</td>\n",
       "      <td>42</td>\n",
       "      <td>1</td>\n",
       "      <td>6</td>\n",
       "      <td>124</td>\n",
       "      <td>4</td>\n",
       "      <td>12</td>\n",
       "      <td>35</td>\n",
       "      <td>7</td>\n",
       "      <td>7</td>\n",
       "      <td>2135</td>\n",
       "      <td>195</td>\n",
       "      <td>67</td>\n",
       "      <td>65</td>\n",
       "      <td>1</td>\n",
       "      <td>18</td>\n",
       "      <td>0</td>\n",
       "      <td>13</td>\n",
       "      <td>12</td>\n",
       "    </tr>\n",
       "    <tr>\n",
       "      <th>12</th>\n",
       "      <td>4</td>\n",
       "      <td>29</td>\n",
       "      <td>122</td>\n",
       "      <td>14</td>\n",
       "      <td>24</td>\n",
       "      <td>150</td>\n",
       "      <td>2</td>\n",
       "      <td>25</td>\n",
       "      <td>70</td>\n",
       "      <td>15</td>\n",
       "      <td>15</td>\n",
       "      <td>163</td>\n",
       "      <td>1657</td>\n",
       "      <td>139</td>\n",
       "      <td>115</td>\n",
       "      <td>7</td>\n",
       "      <td>46</td>\n",
       "      <td>0</td>\n",
       "      <td>43</td>\n",
       "      <td>14</td>\n",
       "    </tr>\n",
       "    <tr>\n",
       "      <th>13</th>\n",
       "      <td>4</td>\n",
       "      <td>29</td>\n",
       "      <td>235</td>\n",
       "      <td>14</td>\n",
       "      <td>13</td>\n",
       "      <td>195</td>\n",
       "      <td>13</td>\n",
       "      <td>22</td>\n",
       "      <td>45</td>\n",
       "      <td>16</td>\n",
       "      <td>22</td>\n",
       "      <td>86</td>\n",
       "      <td>106</td>\n",
       "      <td>1602</td>\n",
       "      <td>190</td>\n",
       "      <td>16</td>\n",
       "      <td>20</td>\n",
       "      <td>0</td>\n",
       "      <td>110</td>\n",
       "      <td>10</td>\n",
       "    </tr>\n",
       "    <tr>\n",
       "      <th>14</th>\n",
       "      <td>8</td>\n",
       "      <td>113</td>\n",
       "      <td>108</td>\n",
       "      <td>12</td>\n",
       "      <td>38</td>\n",
       "      <td>38</td>\n",
       "      <td>27</td>\n",
       "      <td>47</td>\n",
       "      <td>79</td>\n",
       "      <td>14</td>\n",
       "      <td>35</td>\n",
       "      <td>63</td>\n",
       "      <td>123</td>\n",
       "      <td>161</td>\n",
       "      <td>1666</td>\n",
       "      <td>17</td>\n",
       "      <td>91</td>\n",
       "      <td>3</td>\n",
       "      <td>69</td>\n",
       "      <td>17</td>\n",
       "    </tr>\n",
       "    <tr>\n",
       "      <th>15</th>\n",
       "      <td>28</td>\n",
       "      <td>25</td>\n",
       "      <td>9</td>\n",
       "      <td>23</td>\n",
       "      <td>7</td>\n",
       "      <td>10</td>\n",
       "      <td>10</td>\n",
       "      <td>28</td>\n",
       "      <td>32</td>\n",
       "      <td>210</td>\n",
       "      <td>24</td>\n",
       "      <td>22</td>\n",
       "      <td>3</td>\n",
       "      <td>6</td>\n",
       "      <td>35</td>\n",
       "      <td>2067</td>\n",
       "      <td>36</td>\n",
       "      <td>0</td>\n",
       "      <td>12</td>\n",
       "      <td>140</td>\n",
       "    </tr>\n",
       "    <tr>\n",
       "      <th>16</th>\n",
       "      <td>5</td>\n",
       "      <td>27</td>\n",
       "      <td>33</td>\n",
       "      <td>20</td>\n",
       "      <td>17</td>\n",
       "      <td>19</td>\n",
       "      <td>8</td>\n",
       "      <td>10</td>\n",
       "      <td>72</td>\n",
       "      <td>34</td>\n",
       "      <td>11</td>\n",
       "      <td>31</td>\n",
       "      <td>74</td>\n",
       "      <td>15</td>\n",
       "      <td>73</td>\n",
       "      <td>16</td>\n",
       "      <td>2183</td>\n",
       "      <td>0</td>\n",
       "      <td>11</td>\n",
       "      <td>26</td>\n",
       "    </tr>\n",
       "    <tr>\n",
       "      <th>17</th>\n",
       "      <td>4</td>\n",
       "      <td>0</td>\n",
       "      <td>0</td>\n",
       "      <td>0</td>\n",
       "      <td>0</td>\n",
       "      <td>0</td>\n",
       "      <td>0</td>\n",
       "      <td>0</td>\n",
       "      <td>0</td>\n",
       "      <td>0</td>\n",
       "      <td>0</td>\n",
       "      <td>3</td>\n",
       "      <td>0</td>\n",
       "      <td>0</td>\n",
       "      <td>0</td>\n",
       "      <td>0</td>\n",
       "      <td>0</td>\n",
       "      <td>2717</td>\n",
       "      <td>0</td>\n",
       "      <td>2</td>\n",
       "    </tr>\n",
       "    <tr>\n",
       "      <th>18</th>\n",
       "      <td>3</td>\n",
       "      <td>58</td>\n",
       "      <td>71</td>\n",
       "      <td>2</td>\n",
       "      <td>24</td>\n",
       "      <td>23</td>\n",
       "      <td>12</td>\n",
       "      <td>10</td>\n",
       "      <td>28</td>\n",
       "      <td>13</td>\n",
       "      <td>26</td>\n",
       "      <td>13</td>\n",
       "      <td>29</td>\n",
       "      <td>63</td>\n",
       "      <td>84</td>\n",
       "      <td>4</td>\n",
       "      <td>23</td>\n",
       "      <td>0</td>\n",
       "      <td>2144</td>\n",
       "      <td>11</td>\n",
       "    </tr>\n",
       "    <tr>\n",
       "      <th>19</th>\n",
       "      <td>46</td>\n",
       "      <td>16</td>\n",
       "      <td>23</td>\n",
       "      <td>576</td>\n",
       "      <td>13</td>\n",
       "      <td>4</td>\n",
       "      <td>7</td>\n",
       "      <td>8</td>\n",
       "      <td>61</td>\n",
       "      <td>335</td>\n",
       "      <td>7</td>\n",
       "      <td>5</td>\n",
       "      <td>20</td>\n",
       "      <td>3</td>\n",
       "      <td>24</td>\n",
       "      <td>156</td>\n",
       "      <td>22</td>\n",
       "      <td>3</td>\n",
       "      <td>5</td>\n",
       "      <td>1405</td>\n",
       "    </tr>\n",
       "  </tbody>\n",
       "</table>\n",
       "</div>"
      ],
      "text/plain": [
       "      0     1     2     3     4     5     6     7     8     9     10    11  \\\n",
       "0   2356     7    15    23    10     4     9     7    33   114     3    19   \n",
       "1      7  1988    40    17    56    12    22     8    73    32   109    25   \n",
       "2      1    34  1803    10    22    40     5     5    33     9    14    62   \n",
       "3     32    22    21  1804    15     9    21    10    57    38    23    10   \n",
       "4      4    38    26    14  2104    21   193     5    53    42    33     9   \n",
       "5      0    18    59    15    10  1930     3    12    30     7    17   100   \n",
       "6      4    14    22     1   189     4  2275     2    23     5    12    11   \n",
       "7      1    13    19    11     7    17     2  2372    32    37     5    28   \n",
       "8      8    54    46    36    45    15    25     9  1971    56    39    30   \n",
       "9    161    34     9    44    29    10     7    26    65  1506    13    10   \n",
       "10     1    96    35    21    21    13     5     6    44    21  2198    14   \n",
       "11     3    12    42     1     6   124     4    12    35     7     7  2135   \n",
       "12     4    29   122    14    24   150     2    25    70    15    15   163   \n",
       "13     4    29   235    14    13   195    13    22    45    16    22    86   \n",
       "14     8   113   108    12    38    38    27    47    79    14    35    63   \n",
       "15    28    25     9    23     7    10    10    28    32   210    24    22   \n",
       "16     5    27    33    20    17    19     8    10    72    34    11    31   \n",
       "17     4     0     0     0     0     0     0     0     0     0     0     3   \n",
       "18     3    58    71     2    24    23    12    10    28    13    26    13   \n",
       "19    46    16    23   576    13     4     7     8    61   335     7     5   \n",
       "\n",
       "      12    13    14    15    16    17    18    19  \n",
       "0      7    12    10    25    12     0    11    22  \n",
       "1     33    35   113    26    21     0    74    12  \n",
       "2    106   233   123     9    19     4    73    13  \n",
       "3     16     2    15    36    27     5     8   611  \n",
       "4     27    22    52    20    32     0    25     9  \n",
       "5    173   189    58     3    14     0    23     4  \n",
       "6     15    11    21    17    30     0    18     4  \n",
       "7     51    14    50    43    18     0     7     8  \n",
       "8     88    32   107    26    59     1    14    39  \n",
       "9     13    10    13   239    34     1    10   352  \n",
       "10    25    36    50    25    21     3    53     9  \n",
       "11   195    67    65     1    18     0    13    12  \n",
       "12  1657   139   115     7    46     0    43    14  \n",
       "13   106  1602   190    16    20     0   110    10  \n",
       "14   123   161  1666    17    91     3    69    17  \n",
       "15     3     6    35  2067    36     0    12   140  \n",
       "16    74    15    73    16  2183     0    11    26  \n",
       "17     0     0     0     0     0  2717     0     2  \n",
       "18    29    63    84     4    23     0  2144    11  \n",
       "19    20     3    24   156    22     3     5  1405  "
      ]
     },
     "execution_count": 51,
     "metadata": {},
     "output_type": "execute_result"
    }
   ],
   "source": [
    "pd.DataFrame(cm10)"
   ]
  },
  {
   "cell_type": "markdown",
   "metadata": {},
   "source": [
    "Yes, for example topic 4 and 20 they are both talk about religons, so there are lot of common words like god or Chrstian."
   ]
  },
  {
   "cell_type": "markdown",
   "metadata": {},
   "source": [
    "## Q2"
   ]
  },
  {
   "cell_type": "markdown",
   "metadata": {},
   "source": [
    "### Q2 (a)\n",
    "\n",
    "Modify the partial code below"
   ]
  },
  {
   "cell_type": "code",
   "execution_count": 52,
   "metadata": {},
   "outputs": [],
   "source": [
    "def feature_num(X, y):\n",
    "    # result_list is a list of tuples (num_features, train_accuracy, test_accuracy)\n",
    "    # where numFeatures is the number of words used as features\n",
    "    result_list = []\n",
    "    \n",
    "    X_train, X_test, y_train, y_test = train_test_split(X, y, test_size=0.3, random_state=42)\n",
    "    \n",
    "    for p in [0.1, 0.2, 0.4, 0.6, 0.8, 1.0]:\n",
    "        subset_size = int(p*X.shape[1])\n",
    "        X_train_subset = X_train.iloc[:, 0:subset_size]\n",
    "        X_test_subset = X_test.iloc[:, 0:subset_size]\n",
    "        # Write your code here to calculate train_accuracy and test_accuracy for the current subset of features\n",
    "        \n",
    "        # train a logistic regression classifier\n",
    "        clf = LogisticRegression(C=1.0).fit(X_train_subset, y_train)\n",
    "\n",
    "        # predict on train and test set\n",
    "        y_train_predict = clf.predict(X_train_subset)\n",
    "        y_test_predict = clf.predict(X_test_subset)\n",
    "\n",
    "        # calculate train and test accuracy\n",
    "        train_accuracy = accuracy_score(y_train, y_train_predict)\n",
    "        test_accuracy = accuracy_score(y_test, y_test_predict)\n",
    "        \n",
    "        # add to result_list\n",
    "        result_list.append((p, train_accuracy, test_accuracy))\n",
    "        \n",
    "    # Make a dataframe of the results\n",
    "    result_df = pd.DataFrame(result_list, columns=[\"num_features\", \"train_accuracy\", \"test_accuracy\"])\n",
    "    \n",
    "    # validate return type\n",
    "    assert isinstance(result_df, pd.DataFrame), \"return type\"\n",
    "    \n",
    "    return result_df"
   ]
  },
  {
   "cell_type": "markdown",
   "metadata": {},
   "source": [
    "### Q2 (b)\n",
    "\n",
    "Use the following code to plot the train and test accuracy for the different feature sets sizes"
   ]
  },
  {
   "cell_type": "code",
   "execution_count": 54,
   "metadata": {},
   "outputs": [
    {
     "data": {
      "text/plain": [
       "<matplotlib.axes._subplots.AxesSubplot at 0x1f9842f5198>"
      ]
     },
     "execution_count": 54,
     "metadata": {},
     "output_type": "execute_result"
    },
    {
     "data": {
      "image/png": "[encoded data removed]",
      "text/plain": [
       "<Figure size 432x288 with 1 Axes>"
      ]
     },
     "metadata": {
      "needs_background": "light"
     },
     "output_type": "display_data"
    }
   ],
   "source": [
    "feature_num_df = feature_num(X, y)\n",
    "feature_num_df.plot(x=\"num_features\", y=[\"train_accuracy\", \"test_accuracy\"])"
   ]
  },
  {
   "cell_type": "markdown",
   "metadata": {},
   "source": [
    "By observation, accuracy is higher with more features."
   ]
  },
  {
   "cell_type": "markdown",
   "metadata": {},
   "source": [
    "## Q3"
   ]
  },
  {
   "cell_type": "markdown",
   "metadata": {},
   "source": [
    "### Q3 (a)\n",
    "\n",
    "Modify the partial code below"
   ]
  },
  {
   "cell_type": "code",
   "execution_count": 53,
   "metadata": {},
   "outputs": [],
   "source": [
    "def hyperparameter(X, y):\n",
    "    # result_list is a list of tuples (num_features, train_accuracy, test_accuracy)\n",
    "    # where numFeatures is the number of words used as features\n",
    "    result_list = []\n",
    "    \n",
    "    X_train, X_test, y_train, y_test = train_test_split(X, y, test_size=0.3, random_state=42)\n",
    "    \n",
    "    for param in [0.001, 0.01, 0.1, 1, 10, 100, 1000]:\n",
    "        # Write your code here to calculate train_accuracy and test_accuracy for the current parameter value\n",
    "        \n",
    "        clf = LogisticRegression(C=param).fit(X_train, y_train)\n",
    "    \n",
    "    # predict on train and test set\n",
    "        y_train_predict = clf.predict(X_train)\n",
    "        y_test_predict = clf.predict(X_test)\n",
    "        \n",
    "        train_accuracy = accuracy_score(y_train, y_train_predict)\n",
    "        test_accuracy = accuracy_score(y_test, y_test_predict)\n",
    "        \n",
    "        # add to result_list\n",
    "        result_list.append((param, train_accuracy, test_accuracy))\n",
    "        \n",
    "    # Make a dataframe of the results\n",
    "    result_df = pd.DataFrame(result_list, columns=[\"param\", \"train_accuracy\", \"test_accuracy\"])\n",
    "    \n",
    "    # validate return type\n",
    "    assert isinstance(result_df, pd.DataFrame), \"return type\"\n",
    "    \n",
    "    return result_df"
   ]
  },
  {
   "cell_type": "markdown",
   "metadata": {},
   "source": [
    "### Q3 (b)\n",
    "\n",
    "Use the following code to plot the train and test accuracy for the different the parameters"
   ]
  },
  {
   "cell_type": "code",
   "execution_count": 55,
   "metadata": {},
   "outputs": [
    {
     "data": {
      "text/plain": [
       "<matplotlib.axes._subplots.AxesSubplot at 0x1f9842daa20>"
      ]
     },
     "execution_count": 55,
     "metadata": {},
     "output_type": "execute_result"
    },
    {
     "data": {
      "image/png": "[encoded data removed]",
      "text/plain": [
       "<Figure size 432x288 with 1 Axes>"
      ]
     },
     "metadata": {
      "needs_background": "light"
     },
     "output_type": "display_data"
    }
   ],
   "source": [
    "param_df = hyperparameter(X, y)\n",
    "param_df.plot(x=\"param\", y=[\"train_accuracy\", \"test_accuracy\"], logx=True)"
   ]
  },
  {
   "cell_type": "markdown",
   "metadata": {},
   "source": [
    "The highest accuracy occur when hyperparameter C at 0.1 to 1 with right anout of regularization"
   ]
  },
  {
   "cell_type": "markdown",
   "metadata": {},
   "source": [
    "## Q4"
   ]
  },
  {
   "cell_type": "markdown",
   "metadata": {},
   "source": [
    "### Q4 (a)\n",
    "\n",
    "Modify the partial code below"
   ]
  },
  {
   "cell_type": "code",
   "execution_count": 56,
   "metadata": {},
   "outputs": [],
   "source": [
    "def tf_improved_data(file_list, num_words = 1000):\n",
    "    # Put your code here\n",
    "    # Make sure you update the variable features and targets below\n",
    "    \n",
    "    X = None\n",
    "    y = None\n",
    "    \n",
    "    # validate return types\n",
    "    assert isinstance(X, pd.DataFrame) and isinstance(y, list), \"return types\"\n",
    "    \n",
    "    return X, y"
   ]
  },
  {
   "cell_type": "code",
   "execution_count": 57,
   "metadata": {},
   "outputs": [],
   "source": [
    "def  tf_improved_data(file_list, num_words = 1000):\n",
    "    # Calculate word count in corpus\n",
    "    nltk.download('punkt')\n",
    "    nltk.download('stopwords')\n",
    "    df_rows = []\n",
    "    stop = set(stopwords.words('english'))\n",
    "    st = RegexpStemmer('ing$|s$|e$|able$', min=4)\n",
    "    tokenizer = RegexpTokenizer(r'\\w+')\n",
    "    \n",
    "    word_counter = Counter()\n",
    "    for file_path in file_list:\n",
    "        with open(file_path, 'r', encoding='utf-8', errors='ignore') as file:\n",
    "            file_data = file.read()\n",
    "            file_data = clean_file_text(file_data)\n",
    "            file_data = st.stem(file_data.lower())\n",
    "            file_words =tokenizer.tokenize(file_data)\n",
    "            file_words = [i for i in file_words if i not in stop]\n",
    "            \n",
    "            word_counter.update(file_words)\n",
    "     \n",
    "    word_list = [word for (word, freq) in word_counter.most_common(num_words)]\n",
    "    \n",
    "    for file_path in file_list:\n",
    "        with open(file_path, 'r', encoding='utf-8', errors='ignore') as file:\n",
    "            file_data = file.read()\n",
    "            file_data = clean_file_text(file_data)\n",
    "            file_data =st.stem(file_data.lower())\n",
    "            file_words =tokenizer.tokenize(file_data)\n",
    "            file_words = [i for i in file_words if i not in stop]\n",
    "            df_rows.append([file_words.count(word) if word in file_words else 0 for word in word_list])\n",
    " \n",
    "    X = pd.DataFrame(df_rows, columns = word_list)\n",
    "    \n",
    "    # Create a dataframe of targets (y)\n",
    "    y = [get_target(get_topic_name(file_path)) for file_path in file_list]\n",
    "    \n",
    "    return X, y"
   ]
  },
  {
   "cell_type": "markdown",
   "metadata": {},
   "source": [
    "### Q4 (b)\n",
    "\n",
    "Use the following code to calculate the mean accuracy and 95% confidence interval over multiple random splits"
   ]
  },
  {
   "cell_type": "code",
   "execution_count": 58,
   "metadata": {},
   "outputs": [
    {
     "name": "stdout",
     "output_type": "stream",
     "text": [
      "[nltk_data] Downloading package punkt to\n",
      "[nltk_data]     C:\\Users\\samxf1995\\AppData\\Roaming\\nltk_data...\n",
      "[nltk_data]   Package punkt is already up-to-date!\n",
      "[nltk_data] Downloading package stopwords to\n",
      "[nltk_data]     C:\\Users\\samxf1995\\AppData\\Roaming\\nltk_data...\n",
      "[nltk_data]   Package stopwords is already up-to-date!\n",
      "Train mean accuracy over 10 random splits: 0.9163471537551698\n",
      "Train confidence interval over 10 random splits: [0.9122797585487801, 0.9204145489615596]\n",
      "Test mean accuracy over 10 random splits: 0.7199259259259259\n",
      "Test confidence interval over 10 random splits: [0.7156112588727347, 0.724240592979117]\n"
     ]
    }
   ],
   "source": [
    "X_tf, y_tf = tf_improved_data(all_files)\n",
    "train_mean10, train_low10, train_high10, test_mean10, test_low10, test_high10 = random_mean_ci(X_tf, y_tf, num_tests = 10)\n",
    "print(\"Train mean accuracy over 10 random splits: {}\".format(train_mean10))\n",
    "print(\"Train confidence interval over 10 random splits: [{}, {}]\".format(train_low10, train_high10))\n",
    "print(\"Test mean accuracy over 10 random splits: {}\".format(test_mean10))\n",
    "print(\"Test confidence interval over 10 random splits: [{}, {}]\".format(test_low10, test_high10))"
   ]
  },
  {
   "cell_type": "markdown",
   "metadata": {},
   "source": [
    "Results for TF and binary are similar,even a bit lower which means tf is not so important when we deal with lots of features."
   ]
  },
  {
   "cell_type": "markdown",
   "metadata": {},
   "source": [
    "## Q5"
   ]
  },
  {
   "cell_type": "markdown",
   "metadata": {},
   "source": [
    "### Q5 (a)\n",
    "\n",
    "Modify the partial code below"
   ]
  },
  {
   "cell_type": "code",
   "execution_count": 59,
   "metadata": {},
   "outputs": [],
   "source": [
    "def nb_random_mean_ci(X, y, num_tests):\n",
    "    # train_results is a list of train accuracy results for the differrent random splits of the dataset\n",
    "    train_results = []\n",
    "    \n",
    "    # test_results is a list of test accuracy results for the differrent random splits of the dataset\n",
    "    test_results = []\n",
    "    \n",
    "    # split to train and test set\n",
    "    for i in range(0,num_tests-1):\n",
    "        X_train, X_test, y_train, y_test = train_test_split(X, y, test_size=0.3, random_state=random.randint(1,1000))\n",
    "\n",
    "    # train a logistic regression classifier\n",
    "        clf = GaussianNB().fit(X_train, y_train)\n",
    "    \n",
    "    # predict on train and test set\n",
    "        y_train_predict = clf.predict(X_train)\n",
    "        y_test_predict = clf.predict(X_test)\n",
    "\n",
    "    # calculate train and test accuracy\n",
    "        train_accuracy = accuracy_score(y_train, y_train_predict)\n",
    "        test_accuracy = accuracy_score(y_test, y_test_predict)\n",
    "        train_results.append(train_accuracy)\n",
    "        test_results.append(test_accuracy)\n",
    "    \n",
    "    \n",
    "    # calculate the train mean and the 95% confidence interval for the list of results\n",
    "    train_mean = np.mean(train_results)\n",
    "    train_ci_low, train_ci_high = stats.t.interval(0.95, len(train_results)-1, loc=train_mean, scale=stats.sem(train_results))\n",
    "    \n",
    "    # calculate the test mean and the 95% confidence interval for the list of results\n",
    "    test_mean = np.mean(test_results)\n",
    "    test_ci_low, test_ci_high = stats.t.interval(0.95, len(test_results)-1, loc=test_mean, scale=stats.sem(test_results))\n",
    "    \n",
    "    # validate return types\n",
    "    assert isinstance(train_mean, float) and isinstance(train_ci_low, float) and isinstance(train_ci_high, float), \"return types\"\n",
    "    assert isinstance(test_mean, float) and isinstance(test_ci_low, float) and isinstance(test_ci_high, float), \"return types\"\n",
    "    \n",
    "    return train_mean, train_ci_low, train_ci_high, test_mean, test_ci_low, test_ci_high"
   ]
  },
  {
   "cell_type": "markdown",
   "metadata": {},
   "source": [
    "### Q5 (b)\n",
    "\n",
    "Use the following code to calculate the mean accuracy and 95% confidence interval over multiple random splits"
   ]
  },
  {
   "cell_type": "code",
   "execution_count": 62,
   "metadata": {},
   "outputs": [
    {
     "name": "stdout",
     "output_type": "stream",
     "text": [
      "Train mean accuracy over 10 random splits: 0.5983583783826693\n",
      "Train confidence interval over 10 random splits: [0.5885230196301345, 0.608193737135204]\n",
      "Test mean accuracy over 10 random splits: 0.5317222222222221\n",
      "Test confidence interval over 10 random splits: [0.5224061402796715, 0.5410383041647727]\n"
     ]
    }
   ],
   "source": [
    "train_mean10, train_low10, train_high10, test_mean10, test_low10, test_high10 = nb_random_mean_ci(X, y, num_tests = 10)\n",
    "print(\"Train mean accuracy over 10 random splits: {}\".format(train_mean10))\n",
    "print(\"Train confidence interval over 10 random splits: [{}, {}]\".format(train_low10, train_high10))\n",
    "print(\"Test mean accuracy over 10 random splits: {}\".format(test_mean10))\n",
    "print(\"Test confidence interval over 10 random splits: [{}, {}]\".format(test_low10, test_high10))"
   ]
  },
  {
   "cell_type": "markdown",
   "metadata": {},
   "source": [
    "Logistic Regression perform better because NB assumed labels are independent."
   ]
  },
  {
   "cell_type": "markdown",
   "metadata": {},
   "source": [
    "## Q6"
   ]
  },
  {
   "cell_type": "code",
   "execution_count": 61,
   "metadata": {},
   "outputs": [],
   "source": [
    "def is_graduate_student():\n",
    "    # ** Graduate students: change the return value to True **\n",
    "    return True"
   ]
  },
  {
   "cell_type": "markdown",
   "metadata": {},
   "source": [
    "### Q6 (a)\n",
    "\n",
    "Modify the partial code below"
   ]
  },
  {
   "cell_type": "code",
   "execution_count": 60,
   "metadata": {},
   "outputs": [],
   "source": [
    "def  binary_med_data(file_list, num_words = 1000):\n",
    "    # Calculate word count in corpus\n",
    "    nltk.download('punkt')\n",
    "    nltk.download('stopwords')\n",
    "    df_rows = []\n",
    "    stop = set(stopwords.words('english'))\n",
    "    st = RegexpStemmer('ing$|s$|e$|able$', min=4)\n",
    "    tokenizer = RegexpTokenizer(r'\\w+')\n",
    "    \n",
    "    word_counter = Counter()\n",
    "    for file_path in file_list:\n",
    "        with open(file_path, 'r', encoding='utf-8', errors='ignore') as file:\n",
    "            file_data = file.read()\n",
    "            file_data = clean_file_text(file_data)\n",
    "            file_data = st.stem(file_data.lower())\n",
    "            file_words =tokenizer.tokenize(file_data)\n",
    "            file_words = [i for i in file_words if i not in stop]\n",
    "            \n",
    "            word_counter.update(file_words)\n",
    "     \n",
    "    word_list = [word for (word, freq) in word_counter.most_common(num_words)]\n",
    "    \n",
    "    for file_path in file_list:\n",
    "        with open(file_path, 'r', encoding='utf-8', errors='ignore') as file:\n",
    "            file_data = file.read()\n",
    "            file_data = clean_file_text(file_data)\n",
    "            file_data =st.stem(file_data.lower())\n",
    "            file_words =tokenizer.tokenize(file_data)\n",
    "            file_words = [i for i in file_words if i not in stop]\n",
    "            df_rows.append([1 if word in file_words else 0 for word in word_list])\n",
    " \n",
    "    X = pd.DataFrame(df_rows, columns = word_list)\n",
    "    \n",
    "    # Create a dataframe of targets (y)\n",
    "    y = [1 if get_topic_name(file_path) == 'sci.med' else 0 for file_path in file_list]\n",
    "    \n",
    "       # validate return types\n",
    "    assert isinstance(X, pd.DataFrame) and isinstance(y, list), \"return types\"\n",
    "    \n",
    "    return X, y"
   ]
  },
  {
   "cell_type": "markdown",
   "metadata": {},
   "source": [
    "### Q6 (b)\n",
    "\n",
    "Use the following code to calculate the mean accuracy and 95% confidence interval over multiple random splits"
   ]
  },
  {
   "cell_type": "code",
   "execution_count": 63,
   "metadata": {},
   "outputs": [
    {
     "name": "stdout",
     "output_type": "stream",
     "text": [
      "[nltk_data] Downloading package punkt to\n",
      "[nltk_data]     C:\\Users\\samxf1995\\AppData\\Roaming\\nltk_data...\n",
      "[nltk_data]   Package punkt is already up-to-date!\n",
      "[nltk_data] Downloading package stopwords to\n",
      "[nltk_data]     C:\\Users\\samxf1995\\AppData\\Roaming\\nltk_data...\n",
      "[nltk_data]   Package stopwords is already up-to-date!\n",
      "Train mean accuracy over 10 random splits: 0.9877354671239075\n",
      "Train confidence interval over 10 random splits: [0.9873039258439466, 0.9881670084038684]\n",
      "Test mean accuracy over 10 random splits: 0.9705\n",
      "Test confidence interval over 10 random splits: [0.9693399024681743, 0.9716600975318258]\n"
     ]
    }
   ],
   "source": [
    "X, y = binary_med_data(all_files)\n",
    "train_mean10, train_low10, train_high10, test_mean10, test_low10, test_high10 = random_mean_ci(X, y, num_tests = 10)\n",
    "print(\"Train mean accuracy over 10 random splits: {}\".format(train_mean10))\n",
    "print(\"Train confidence interval over 10 random splits: [{}, {}]\".format(train_low10, train_high10))\n",
    "print(\"Test mean accuracy over 10 random splits: {}\".format(test_mean10))\n",
    "print(\"Test confidence interval over 10 random splits: [{}, {}]\".format(test_low10, test_high10))"
   ]
  },
  {
   "cell_type": "markdown",
   "metadata": {},
   "source": [
    "It more accurate because there are less catagory with lower independency."
   ]
  }
 ],
 "metadata": {
  "kernelspec": {
   "display_name": "Python [conda env:mie451-assignment-ml]",
   "language": "python",
   "name": "conda-env-mie451-assignment-ml-py"
  },
  "language_info": {
   "codemirror_mode": {
    "name": "ipython",
    "version": 3
   },
   "file_extension": ".py",
   "mimetype": "text/x-python",
   "name": "python",
   "nbconvert_exporter": "python",
   "pygments_lexer": "ipython3",
   "version": "3.6.6"
  }
 },
 "nbformat": 4,
 "nbformat_minor": 2
}
